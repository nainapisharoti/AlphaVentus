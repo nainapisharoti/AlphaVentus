{
 "cells": [
  {
   "cell_type": "markdown",
   "metadata": {},
   "source": [
    "# Import Modules"
   ]
  },
  {
   "cell_type": "code",
   "execution_count": null,
   "metadata": {},
   "outputs": [],
   "source": [
    "import os\n",
    "import sys\n",
    "import numpy as np\n",
    "import xarray as xr\n",
    "from matplotlib import pyplot as plt\n",
    "plt.style.use('seaborn-white')"
   ]
  },
  {
   "cell_type": "markdown",
   "metadata": {},
   "source": [
    "# Load NetCDF From Cluster"
   ]
  },
  {
   "cell_type": "code",
   "execution_count": null,
   "metadata": {},
   "outputs": [],
   "source": [
    "scratch_folder_loc = '/p/lustre2/nainap/'\n",
    "netCDF_file_loc = os.path.join(scratch_folder_loc,'From_Will', 'wrfout_domain6')"
   ]
  },
  {
   "cell_type": "code",
   "execution_count": null,
   "metadata": {},
   "outputs": [],
   "source": [
    "wrf_domain6 = xr.open_dataset(netCDF_file_loc)"
   ]
  },
  {
   "cell_type": "markdown",
   "metadata": {},
   "source": [
    "# Setting Up Variables"
   ]
  },
  {
   "cell_type": "markdown",
   "metadata": {},
   "source": [
    "### Check the x,y,z variables for staggered arrangement"
   ]
  },
  {
   "cell_type": "code",
   "execution_count": null,
   "metadata": {},
   "outputs": [],
   "source": [
    "qoi = 'V'\n",
    "qoi_dim = wrf_domain6[qoi].shape\n",
    "#shape format in : [time, z, y, x]\n",
    "[time_dim, bottom_top_dim, south_north_dim, west_east_dim] = qoi_dim \n",
    "print(qoi_dim)\n",
    "x = wrf_domain6[qoi].dims\n",
    "print(x)"
   ]
  },
  {
   "cell_type": "markdown",
   "metadata": {},
   "source": [
    "### Set-up different frames for plotting "
   ]
  },
  {
   "cell_type": "code",
   "execution_count": null,
   "metadata": {},
   "outputs": [],
   "source": [
    "## (YZ-plane)\n",
    "location_spec_flag = 0  # used to provide specific locations\n",
    "\n",
    "if location_spec_flag == 0:\n",
    "    qoi_yz_1 = wrf_domain6[qoi].isel(Time=0).isel(west_east=0) \n",
    "    qoi_yz_2 = wrf_domain6[qoi].isel(Time=0).isel(west_east=int(west_east_dim*0.5))\n",
    "    qoi_yz_3 = wrf_domain6[qoi].isel(Time=0).isel(west_east=int(west_east_dim*0.75))"
   ]
  },
  {
   "cell_type": "code",
   "execution_count": null,
   "metadata": {},
   "outputs": [],
   "source": [
    "## (XZ-plane)\n",
    "location_spec_flag = 0 # used to provide specific locations\n",
    "\n",
    "if location_spec_flag == 0:\n",
    "    qoi_xz_1 = wrf_domain6[qoi].isel(Time=0).isel(south_north_stag=0) \n",
    "    qoi_xz_2 = wrf_domain6[qoi].isel(Time=0).isel(south_north_stag=int(south_north_dim*0.5))\n",
    "    qoi_xz_3 = wrf_domain6[qoi].isel(Time=0).isel(south_north_stag=int(south_north_dim*0.75))"
   ]
  },
  {
   "cell_type": "code",
   "execution_count": null,
   "metadata": {},
   "outputs": [],
   "source": [
    "## (XY-plane)\n",
    "location_spec_flag = 0 # used to provide specific locations\n",
    "\n",
    "if location_spec_flag == 0:\n",
    "    qoi_xy_1 = wrf_domain6[qoi].isel(Time=0).isel(bottom_top=0) \n",
    "    qoi_xy_2 = wrf_domain6[qoi].isel(Time=0).isel(bottom_top=int(bottom_top_dim*0.5))\n",
    "    qoi_xy_3 = wrf_domain6[qoi].isel(Time=0).isel(bottom_top=int(bottom_top_dim*0.75))"
   ]
  },
  {
   "cell_type": "code",
   "execution_count": null,
   "metadata": {},
   "outputs": [],
   "source": [
    "## Create grid for plotting contours\n",
    "\n",
    "yz_plane_cols, yz_plane_rows = np.meshgrid(wrf_domain6['south_north_stag'], wrf_domain6['bottom_top'])\n",
    "xz_plane_cols, xz_plane_rows = np.meshgrid(wrf_domain6['west_east'], wrf_domain6['bottom_top'])\n",
    "xy_plane_cols, xy_plane_rows = np.meshgrid(wrf_domain6['west_east'], wrf_domain6['south_north_stag'])"
   ]
  },
  {
   "cell_type": "markdown",
   "metadata": {},
   "source": [
    "# Contour Plots"
   ]
  },
  {
   "cell_type": "code",
   "execution_count": null,
   "metadata": {},
   "outputs": [],
   "source": [
    "cmap_name = 'rainbow'\n",
    "south_north_label = 'south_north_index'\n",
    "west_east_label   = 'west_east_index'\n",
    "bottom_top_label   = 'bottom_top_index'"
   ]
  },
  {
   "cell_type": "markdown",
   "metadata": {},
   "source": [
    "### YZ-Plane"
   ]
  },
  {
   "cell_type": "code",
   "execution_count": null,
   "metadata": {},
   "outputs": [],
   "source": [
    "f, axs = plt.subplots(1, 3, figsize = (20, 5) )\n",
    "\n",
    "plt.subplot(1, 3, 1)\n",
    "plt.contourf(yz_plane_cols, yz_plane_rows, qoi_yz_1, 20, cmap=cmap_name);\n",
    "plt.colorbar();\n",
    "plt.xlabel(south_north_label)\n",
    "plt.ylabel(bottom_top_label)\n",
    "plt.title(qoi + ': west_east = 0')\n",
    "\n",
    "plt.subplot(1, 3, 2)\n",
    "plt.contourf(yz_plane_cols, yz_plane_rows, qoi_yz_2, 20, cmap=cmap_name);\n",
    "plt.colorbar();\n",
    "plt.xlabel(south_north_label)\n",
    "plt.ylabel(bottom_top_label)\n",
    "plt.title(qoi + ': west_east = {}'.format(int(west_east_dim*0.5)))\n",
    "\n",
    "plt.subplot(1, 3, 3)\n",
    "plt.contourf(yz_plane_cols, yz_plane_rows, qoi_yz_3, 20, cmap=cmap_name);\n",
    "plt.colorbar();\n",
    "plt.xlabel(south_north_label)\n",
    "plt.ylabel(bottom_top_label)\n",
    "plt.title(qoi + ': west_east = {}'.format(int(west_east_dim*0.75)))"
   ]
  },
  {
   "cell_type": "markdown",
   "metadata": {},
   "source": [
    "### XZ-Plane"
   ]
  },
  {
   "cell_type": "code",
   "execution_count": null,
   "metadata": {},
   "outputs": [],
   "source": [
    "f, axs = plt.subplots(1, 3, figsize = (20, 5) )\n",
    "\n",
    "plt.subplot(1, 3, 1)\n",
    "plt.contourf(xz_plane_cols, xz_plane_rows, qoi_xz_1, 20, cmap=cmap_name);\n",
    "plt.colorbar();\n",
    "plt.xlabel(west_east_label)\n",
    "plt.ylabel(bottom_top_label)\n",
    "plt.title(qoi + ': south_north = 0')\n",
    "\n",
    "plt.subplot(1, 3, 2)\n",
    "plt.contourf(xz_plane_cols, xz_plane_rows, qoi_xz_2, 20, cmap=cmap_name);\n",
    "plt.colorbar();\n",
    "plt.xlabel(west_east_label)\n",
    "plt.ylabel(bottom_top_label)\n",
    "plt.title(qoi + ': south_north = {}'.format(int(south_north_dim*0.5)))\n",
    "\n",
    "plt.subplot(1, 3, 3)\n",
    "plt.contourf(xz_plane_cols, xz_plane_rows, qoi_xz_3, 20, cmap=cmap_name);\n",
    "plt.colorbar();\n",
    "plt.xlabel(west_east_label)\n",
    "plt.ylabel(bottom_top_label)\n",
    "plt.title(qoi + ': south_north = {}'.format(int(south_north_dim*0.75)))"
   ]
  },
  {
   "cell_type": "markdown",
   "metadata": {},
   "source": [
    "### XY-Plane"
   ]
  },
  {
   "cell_type": "code",
   "execution_count": null,
   "metadata": {},
   "outputs": [],
   "source": [
    "f, axs = plt.subplots(1, 3, figsize = (20, 5) )\n",
    "\n",
    "plt.subplot(1, 3, 1)\n",
    "plt.contourf(xy_plane_cols, xy_plane_rows, qoi_xy_1, 20, cmap=cmap_name);\n",
    "plt.colorbar();\n",
    "plt.xlabel(west_east_label)\n",
    "plt.ylabel(south_north_label)\n",
    "plt.title(qoi + ': bottom_top = 0')\n",
    "\n",
    "plt.subplot(1, 3, 2)\n",
    "plt.contourf(xy_plane_cols, xy_plane_rows, qoi_xy_2, 20, cmap=cmap_name);\n",
    "plt.colorbar();\n",
    "plt.xlabel(west_east_label)\n",
    "plt.ylabel(south_north_label)\n",
    "plt.title(qoi + ': bottom_top = {}'.format(int(bottom_top_dim*0.5)))\n",
    "\n",
    "plt.subplot(1, 3, 3)\n",
    "plt.contourf(xy_plane_cols, xy_plane_rows, qoi_xy_3, 20, cmap=cmap_name);\n",
    "plt.colorbar();\n",
    "plt.xlabel(west_east_label)\n",
    "plt.ylabel(south_north_label)\n",
    "plt.title(qoi + ': bottom_top = {}'.format(int(bottom_top_dim*0.75)))"
   ]
  },
  {
   "cell_type": "code",
   "execution_count": null,
   "metadata": {},
   "outputs": [],
   "source": [
    "'''stress components (M13 : output for stress; to be derived) and integrated power for GAD simulation'''"
   ]
  }
 ],
 "metadata": {
  "kernelspec": {
   "display_name": "My Virtual Env",
   "language": "python",
   "name": "pyhon_venv"
  },
  "language_info": {
   "codemirror_mode": {
    "name": "ipython",
    "version": 3
   },
   "file_extension": ".py",
   "mimetype": "text/x-python",
   "name": "python",
   "nbconvert_exporter": "python",
   "pygments_lexer": "ipython3",
   "version": "3.7.2"
  }
 },
 "nbformat": 4,
 "nbformat_minor": 4
}
